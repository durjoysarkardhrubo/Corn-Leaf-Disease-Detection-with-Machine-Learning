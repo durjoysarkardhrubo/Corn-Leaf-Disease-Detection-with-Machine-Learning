{
  "cells": [
    {
      "cell_type": "code",
      "execution_count": null,
      "id": "65bd2e1c",
      "metadata": {
        "id": "65bd2e1c"
      },
      "outputs": [],
      "source": [
        "import tensorflow as tf\n",
        "import numpy as np"
      ]
    },
    {
      "cell_type": "code",
      "execution_count": null,
      "id": "3382c5eb",
      "metadata": {
        "colab": {
          "base_uri": "https://localhost:8080/"
        },
        "id": "3382c5eb",
        "outputId": "9635105d-b38c-4527-cd48-3a07326c2633"
      },
      "outputs": [
        {
          "output_type": "stream",
          "name": "stdout",
          "text": [
            "Mounted at /content/drive\n"
          ]
        }
      ],
      "source": [
        "from google.colab import drive\n",
        "drive.mount('/content/drive')\n"
      ]
    },
    {
      "cell_type": "code",
      "source": [
        "!unzip -u \"/content/drive/My Drive/Corn Disease Dataset/Corn_leaf_disease.zip\" -d \"/content/drive/My Drive/Corn Disease Dataset\"\n",
        "base_dir=r\"/content/drive/My Drive/Corn Disease Dataset/data\""
      ],
      "metadata": {
        "colab": {
          "base_uri": "https://localhost:8080/"
        },
        "id": "lsrus44KUA1z",
        "outputId": "2f2edd16-8479-4a31-b284-577fdd447bdd"
      },
      "id": "lsrus44KUA1z",
      "execution_count": null,
      "outputs": [
        {
          "output_type": "stream",
          "name": "stdout",
          "text": [
            "Archive:  /content/drive/My Drive/Corn Disease Dataset/Corn_leaf_disease.zip\n"
          ]
        }
      ]
    },
    {
      "cell_type": "code",
      "execution_count": null,
      "id": "39e0ed45",
      "metadata": {
        "colab": {
          "base_uri": "https://localhost:8080/"
        },
        "id": "39e0ed45",
        "outputId": "97f8768c-11a8-400b-96e1-c72116861911"
      },
      "outputs": [
        {
          "output_type": "stream",
          "name": "stdout",
          "text": [
            "Found 3771 images belonging to 4 classes.\n",
            "Found 417 images belonging to 4 classes.\n"
          ]
        }
      ],
      "source": [
        "IMAGE_SIZE=224\n",
        "BATCH_SIZE=64\n",
        "\n",
        "train_datagen=tf.keras.preprocessing.image.ImageDataGenerator(\n",
        "    rescale=1./255,\n",
        "    shear_range=0.2,\n",
        "    zoom_range=0.2,\n",
        "    horizontal_flip=True,\n",
        "    validation_split=0.1\n",
        ")\n",
        "\n",
        "test_datagen=tf.keras.preprocessing.image.ImageDataGenerator(\n",
        "    rescale=1./255,\n",
        "    validation_split=0.1\n",
        ")\n",
        "\n",
        "train_datagen=train_datagen.flow_from_directory(\n",
        "    base_dir,\n",
        "    target_size=(IMAGE_SIZE, IMAGE_SIZE),\n",
        "    batch_size=BATCH_SIZE,\n",
        "    subset='training'\n",
        ")\n",
        "\n",
        "test_datagen=test_datagen.flow_from_directory(\n",
        "    base_dir,\n",
        "    target_size=(IMAGE_SIZE, IMAGE_SIZE),\n",
        "    batch_size=BATCH_SIZE,\n",
        "    subset='validation'\n",
        ")"
      ]
    },
    {
      "cell_type": "code",
      "execution_count": null,
      "id": "4a19217e",
      "metadata": {
        "id": "4a19217e",
        "colab": {
          "base_uri": "https://localhost:8080/"
        },
        "outputId": "a50dd7e1-579d-49ac-adb8-a94360be397a"
      },
      "outputs": [
        {
          "output_type": "stream",
          "name": "stderr",
          "text": [
            "/usr/local/lib/python3.10/dist-packages/keras/src/layers/convolutional/base_conv.py:107: UserWarning: Do not pass an `input_shape`/`input_dim` argument to a layer. When using Sequential models, prefer using an `Input(shape)` object as the first layer in the model instead.\n",
            "  super().__init__(activity_regularizer=activity_regularizer, **kwargs)\n"
          ]
        }
      ],
      "source": [
        "cnn=tf.keras.Sequential()\n",
        "cnn.add(tf.keras.layers.Conv2D(filters=32, kernel_size=3, activation='relu',input_shape=(224,224,3)))\n",
        "cnn.add(tf.keras.layers.MaxPool2D(pool_size=2))\n",
        "cnn.add(tf.keras.layers.Conv2D(filters=32, kernel_size=3, activation='relu'))\n",
        "cnn.add(tf.keras.layers.MaxPool2D(pool_size=2, strides=2))\n",
        "cnn.add(tf.keras.layers.Flatten())\n",
        "cnn.add(tf.keras.layers.Dense(4,activation='softmax'))"
      ]
    },
    {
      "cell_type": "code",
      "execution_count": null,
      "id": "76b24ce8",
      "metadata": {
        "id": "76b24ce8"
      },
      "outputs": [],
      "source": [
        "cnn.compile(optimizer=tf.keras.optimizers.Adam(), loss='categorical_crossentropy',metrics=['accuracy'])"
      ]
    },
    {
      "cell_type": "code",
      "source": [
        "cnn.fit(train_datagen,epochs=20,validation_data=test_datagen)"
      ],
      "metadata": {
        "id": "zqlUwZbfSVMN"
      },
      "id": "zqlUwZbfSVMN",
      "execution_count": null,
      "outputs": []
    },
    {
      "cell_type": "code",
      "source": [
        "import numpy as np\n",
        "from sklearn.metrics import confusion_matrix, precision_score, recall_score, f1_score\n",
        "# Get the predictions and ground truth labels for train and test data\n",
        "train_predictions = np.argmax(cnn.predict(train_datagen), axis=-1)\n",
        "train_labels = train_datagen.classes\n",
        "\n",
        "test_predictions = np.argmax(cnn.predict(test_datagen), axis=-1)\n",
        "test_labels = test_datagen.classes\n",
        "\n",
        "# Calculate the confusion matrix for train and test data\n",
        "train_cm = confusion_matrix(train_labels, train_predictions)\n",
        "test_cm = confusion_matrix(test_labels, test_predictions)\n",
        "\n",
        "# Calculate precision, recall, and F1 score for train data\n",
        "train_precision = precision_score(train_labels, train_predictions, average='weighted')\n",
        "train_recall = recall_score(train_labels, train_predictions, average='weighted')\n",
        "train_f1 = f1_score(train_labels, train_predictions, average='weighted')\n",
        "\n",
        "# Calculate precision, recall, and F1 score for test data\n",
        "test_precision = precision_score(test_labels, test_predictions, average='weighted')\n",
        "test_recall = recall_score(test_labels, test_predictions, average='weighted')\n",
        "test_f1 = f1_score(test_labels, test_predictions, average='weighted')\n",
        "\n",
        "# Print the results for train data\n",
        "print(\"Train Confusion Matrix:\")\n",
        "print(train_cm)\n",
        "print(\"Train Precision:\", train_precision)\n",
        "print(\"Train Recall:\", train_recall)\n",
        "print(\"Train F1 Score:\", train_f1)\n",
        "\n",
        "# Print the results for test data\n",
        "print(\"Test Confusion Matrix:\")\n",
        "print(test_cm)\n",
        "print(\"Test Precision:\", test_precision)\n",
        "print(\"Test Recall:\", test_recall)\n",
        "print(\"Test F1 Score:\", test_f1)"
      ],
      "metadata": {
        "colab": {
          "base_uri": "https://localhost:8080/"
        },
        "id": "QS3DobUfgz7s",
        "outputId": "3b587f34-af0e-405c-b0c1-ed27afd7cef1"
      },
      "id": "QS3DobUfgz7s",
      "execution_count": null,
      "outputs": [
        {
          "output_type": "stream",
          "name": "stdout",
          "text": [
            "59/59 [==============================] - 80s 1s/step\n",
            "7/7 [==============================] - 5s 566ms/step\n",
            "Train Confusion Matrix:\n",
            "[[280 280 175 297]\n",
            " [289 342 220 325]\n",
            " [142 149  90 136]\n",
            " [280 315 171 280]]\n",
            "Train Precision: 0.2691632654353233\n",
            "Train Recall: 0.26306019623442056\n",
            "Train F1 Score: 0.2656303532085305\n",
            "Test Confusion Matrix:\n",
            "[[34 34 22 24]\n",
            " [28 41 23 38]\n",
            " [15 15 13 14]\n",
            " [28 36 15 37]]\n",
            "Test Precision: 0.3053929468401334\n",
            "Test Recall: 0.2997601918465228\n",
            "Test F1 Score: 0.30197266530258476\n"
          ]
        }
      ]
    },
    {
      "cell_type": "code",
      "source": [
        "from tensorflow.keras.layers import Conv2D, MaxPooling2D, Flatten, Dense, LSTM, Reshape, Bidirectional\n",
        "from tensorflow.keras import Sequential"
      ],
      "metadata": {
        "id": "RhJVzW9nB7Li"
      },
      "id": "RhJVzW9nB7Li",
      "execution_count": null,
      "outputs": []
    },
    {
      "cell_type": "code",
      "source": [
        "model1 = Sequential()\n",
        "model1.add(Reshape((224, 224*3), input_shape=(224, 224, 3)))  # Reshape the input to (timesteps, features)\n",
        "model1.add(LSTM(10))\n",
        "model1.add(Dense(4,activation='softmax'))"
      ],
      "metadata": {
        "id": "eYNuPc8BB7lB"
      },
      "id": "eYNuPc8BB7lB",
      "execution_count": null,
      "outputs": []
    },
    {
      "cell_type": "code",
      "source": [
        "model1.summary()"
      ],
      "metadata": {
        "colab": {
          "base_uri": "https://localhost:8080/"
        },
        "id": "upIbGUqsB8DT",
        "outputId": "32a9ff8a-49cf-4d68-8363-a73d0a094959"
      },
      "id": "upIbGUqsB8DT",
      "execution_count": null,
      "outputs": [
        {
          "output_type": "stream",
          "name": "stdout",
          "text": [
            "Model: \"sequential_1\"\n",
            "_________________________________________________________________\n",
            " Layer (type)                Output Shape              Param #   \n",
            "=================================================================\n",
            " reshape_1 (Reshape)         (None, 224, 672)          0         \n",
            "                                                                 \n",
            " lstm_1 (LSTM)               (None, 10)                27320     \n",
            "                                                                 \n",
            " dense_1 (Dense)             (None, 4)                 44        \n",
            "                                                                 \n",
            "=================================================================\n",
            "Total params: 27,364\n",
            "Trainable params: 27,364\n",
            "Non-trainable params: 0\n",
            "_________________________________________________________________\n"
          ]
        }
      ]
    },
    {
      "cell_type": "code",
      "source": [
        "from tensorflow.keras.losses import CategoricalCrossentropy\n",
        "model1.compile(\n",
        "  optimizer='adam',\n",
        "  loss=CategoricalCrossentropy(),\n",
        "  metrics=['accuracy'])"
      ],
      "metadata": {
        "id": "KnTZ6NsmB8Qu"
      },
      "id": "KnTZ6NsmB8Qu",
      "execution_count": null,
      "outputs": []
    },
    {
      "cell_type": "code",
      "source": [
        "history = model1.fit(\n",
        "  train_datagen,\n",
        "  validation_data=test_datagen,\n",
        "  epochs=20)"
      ],
      "metadata": {
        "colab": {
          "base_uri": "https://localhost:8080/"
        },
        "id": "H6_kyWKwB8nH",
        "outputId": "a88f3c5b-f377-4414-f9bb-271e819869b9"
      },
      "id": "H6_kyWKwB8nH",
      "execution_count": null,
      "outputs": [
        {
          "output_type": "stream",
          "name": "stdout",
          "text": [
            "Epoch 1/20\n",
            "59/59 [==============================] - 67s 1s/step - loss: 1.1312 - accuracy: 0.5532 - val_loss: 1.0789 - val_accuracy: 0.6427\n",
            "Epoch 2/20\n",
            "59/59 [==============================] - 61s 1s/step - loss: 1.0195 - accuracy: 0.5972 - val_loss: 0.8987 - val_accuracy: 0.6787\n",
            "Epoch 3/20\n",
            "59/59 [==============================] - 62s 1s/step - loss: 0.9283 - accuracy: 0.6486 - val_loss: 0.7717 - val_accuracy: 0.7698\n",
            "Epoch 4/20\n",
            "59/59 [==============================] - 59s 1s/step - loss: 0.8246 - accuracy: 0.7086 - val_loss: 0.8348 - val_accuracy: 0.6715\n",
            "Epoch 5/20\n",
            "59/59 [==============================] - 60s 1s/step - loss: 0.7743 - accuracy: 0.7287 - val_loss: 0.6636 - val_accuracy: 0.7818\n",
            "Epoch 6/20\n",
            "59/59 [==============================] - 63s 1s/step - loss: 0.7083 - accuracy: 0.7603 - val_loss: 0.6218 - val_accuracy: 0.7938\n",
            "Epoch 7/20\n",
            "59/59 [==============================] - 61s 1s/step - loss: 0.6564 - accuracy: 0.7759 - val_loss: 0.5578 - val_accuracy: 0.8106\n",
            "Epoch 8/20\n",
            "59/59 [==============================] - 60s 1s/step - loss: 0.6222 - accuracy: 0.7796 - val_loss: 0.5171 - val_accuracy: 0.8177\n",
            "Epoch 9/20\n",
            "59/59 [==============================] - 59s 1s/step - loss: 0.5829 - accuracy: 0.7849 - val_loss: 0.4995 - val_accuracy: 0.8201\n",
            "Epoch 10/20\n",
            "59/59 [==============================] - 60s 1s/step - loss: 0.5559 - accuracy: 0.7958 - val_loss: 0.4522 - val_accuracy: 0.8321\n",
            "Epoch 11/20\n",
            "59/59 [==============================] - 60s 1s/step - loss: 0.5389 - accuracy: 0.7953 - val_loss: 0.5043 - val_accuracy: 0.7962\n",
            "Epoch 12/20\n",
            "59/59 [==============================] - 62s 1s/step - loss: 0.5082 - accuracy: 0.8043 - val_loss: 0.4337 - val_accuracy: 0.8345\n",
            "Epoch 13/20\n",
            "59/59 [==============================] - 59s 1s/step - loss: 0.4911 - accuracy: 0.8064 - val_loss: 0.4130 - val_accuracy: 0.8369\n",
            "Epoch 14/20\n",
            "59/59 [==============================] - 60s 1s/step - loss: 0.4802 - accuracy: 0.8091 - val_loss: 0.3818 - val_accuracy: 0.8465\n",
            "Epoch 15/20\n",
            "59/59 [==============================] - 61s 1s/step - loss: 0.4652 - accuracy: 0.8117 - val_loss: 0.3870 - val_accuracy: 0.8393\n",
            "Epoch 16/20\n",
            "59/59 [==============================] - 62s 1s/step - loss: 0.6222 - accuracy: 0.7648 - val_loss: 0.4703 - val_accuracy: 0.8106\n",
            "Epoch 17/20\n",
            "59/59 [==============================] - 59s 1s/step - loss: 0.5075 - accuracy: 0.8003 - val_loss: 0.4126 - val_accuracy: 0.8321\n",
            "Epoch 18/20\n",
            "59/59 [==============================] - 60s 1s/step - loss: 0.4733 - accuracy: 0.8096 - val_loss: 0.3868 - val_accuracy: 0.8297\n",
            "Epoch 19/20\n",
            "59/59 [==============================] - 59s 999ms/step - loss: 0.4624 - accuracy: 0.8085 - val_loss: 0.3570 - val_accuracy: 0.8441\n",
            "Epoch 20/20\n",
            "59/59 [==============================] - 59s 999ms/step - loss: 0.4534 - accuracy: 0.8128 - val_loss: 0.3543 - val_accuracy: 0.8441\n"
          ]
        }
      ]
    },
    {
      "cell_type": "code",
      "source": [
        "import matplotlib.pyplot as plt\n",
        "\n",
        "plt.plot(history.history['loss'])\n",
        "plt.plot(history.history['val_loss'])"
      ],
      "metadata": {
        "colab": {
          "base_uri": "https://localhost:8080/",
          "height": 447
        },
        "id": "foNEhaWKMaDx",
        "outputId": "af1fc382-30ce-4cf1-9421-41fa0e92e961"
      },
      "id": "foNEhaWKMaDx",
      "execution_count": null,
      "outputs": [
        {
          "output_type": "execute_result",
          "data": {
            "text/plain": [
              "[<matplotlib.lines.Line2D at 0x7f6e14febdc0>]"
            ]
          },
          "metadata": {},
          "execution_count": 16
        },
        {
          "output_type": "display_data",
          "data": {
            "text/plain": [
              "<Figure size 640x480 with 1 Axes>"
            ],
            "image/png": "[encoded data removed]"
          },
          "metadata": {}
        }
      ]
    },
    {
      "cell_type": "code",
      "source": [
        "import numpy as np\n",
        "from sklearn.metrics import confusion_matrix, precision_score, recall_score, f1_score\n",
        "# Get the predictions and ground truth labels for train and test data\n",
        "train_predictions = np.argmax(model1.predict(train_datagen), axis=-1)\n",
        "train_labels = train_datagen.classes\n",
        "\n",
        "test_predictions = np.argmax(model1.predict(test_datagen), axis=-1)\n",
        "test_labels = test_datagen.classes\n",
        "\n",
        "# Calculate the confusion matrix for train and test data\n",
        "train_cm = confusion_matrix(train_labels, train_predictions)\n",
        "test_cm = confusion_matrix(test_labels, test_predictions)\n",
        "\n",
        "# Calculate precision, recall, and F1 score for train data\n",
        "train_precision = precision_score(train_labels, train_predictions, average='weighted')\n",
        "train_recall = recall_score(train_labels, train_predictions, average='weighted')\n",
        "train_f1 = f1_score(train_labels, train_predictions, average='weighted')\n",
        "\n",
        "# Calculate precision, recall, and F1 score for test data\n",
        "test_precision = precision_score(test_labels, test_predictions, average='weighted')\n",
        "test_recall = recall_score(test_labels, test_predictions, average='weighted')\n",
        "test_f1 = f1_score(test_labels, test_predictions, average='weighted')\n",
        "\n",
        "# Print the results for train data\n",
        "print(\"Train Confusion Matrix:\")\n",
        "print(train_cm)\n",
        "print(\"Train Precision:\", train_precision)\n",
        "print(\"Train Recall:\", train_recall)\n",
        "print(\"Train F1 Score:\", train_f1)\n",
        "\n",
        "# Print the results for test data\n",
        "print(\"Test Confusion Matrix:\")\n",
        "print(test_cm)\n",
        "print(\"Test Precision:\", test_precision)\n",
        "print(\"Test Recall:\", test_recall)\n",
        "print(\"Test F1 Score:\", test_f1)"
      ],
      "metadata": {
        "colab": {
          "base_uri": "https://localhost:8080/"
        },
        "id": "Eper4dd_MtLJ",
        "outputId": "8f5319ef-5210-4b28-d101-8b14a592b164"
      },
      "id": "Eper4dd_MtLJ",
      "execution_count": null,
      "outputs": [
        {
          "output_type": "stream",
          "name": "stdout",
          "text": [
            "59/59 [==============================] - 58s 972ms/step\n",
            "7/7 [==============================] - 2s 252ms/step\n",
            "Train Confusion Matrix:\n",
            "[[431 298   0 303]\n",
            " [468 371   0 337]\n",
            " [217 147   0 153]\n",
            " [421 300   0 325]]\n",
            "Train Precision: 0.26104633366089175\n",
            "Train Recall: 0.2988597189074516\n",
            "Train F1 Score: 0.2761005317757715\n",
            "Test Confusion Matrix:\n",
            "[[50 33  0 31]\n",
            " [50 47  0 33]\n",
            " [21 17  0 19]\n",
            " [44 34  0 38]]\n",
            "Test Precision: 0.28205378413816795\n",
            "Test Recall: 0.3237410071942446\n",
            "Test F1 Score: 0.29946870662277664\n"
          ]
        },
        {
          "output_type": "stream",
          "name": "stderr",
          "text": [
            "/usr/local/lib/python3.10/dist-packages/sklearn/metrics/_classification.py:1344: UndefinedMetricWarning: Precision is ill-defined and being set to 0.0 in labels with no predicted samples. Use `zero_division` parameter to control this behavior.\n",
            "  _warn_prf(average, modifier, msg_start, len(result))\n",
            "/usr/local/lib/python3.10/dist-packages/sklearn/metrics/_classification.py:1344: UndefinedMetricWarning: Precision is ill-defined and being set to 0.0 in labels with no predicted samples. Use `zero_division` parameter to control this behavior.\n",
            "  _warn_prf(average, modifier, msg_start, len(result))\n"
          ]
        }
      ]
    },
    {
      "cell_type": "code",
      "source": [
        "model1 = Sequential()\n",
        "model1.add(Reshape((224, 224*3), input_shape=(224, 224, 3)))  # Reshape the input to (timesteps, features)\n",
        "model1.add(Bidirectional(LSTM(64)))\n",
        "model1.add(Dense(4,activation='softmax'))"
      ],
      "metadata": {
        "id": "CrKARpBFr-NY"
      },
      "id": "CrKARpBFr-NY",
      "execution_count": null,
      "outputs": []
    },
    {
      "cell_type": "code",
      "source": [
        "model1.summary()"
      ],
      "metadata": {
        "colab": {
          "base_uri": "https://localhost:8080/"
        },
        "id": "mU9MRBkyr-c7",
        "outputId": "9dd4eef1-4e76-4920-f7b9-4b7fbf6d0243"
      },
      "id": "mU9MRBkyr-c7",
      "execution_count": null,
      "outputs": [
        {
          "output_type": "stream",
          "name": "stdout",
          "text": [
            "Model: \"sequential_1\"\n",
            "_________________________________________________________________\n",
            " Layer (type)                Output Shape              Param #   \n",
            "=================================================================\n",
            " reshape_1 (Reshape)         (None, 224, 672)          0         \n",
            "                                                                 \n",
            " bidirectional_1 (Bidirectio  (None, 128)              377344    \n",
            " nal)                                                            \n",
            "                                                                 \n",
            " dense_1 (Dense)             (None, 4)                 516       \n",
            "                                                                 \n",
            "=================================================================\n",
            "Total params: 377,860\n",
            "Trainable params: 377,860\n",
            "Non-trainable params: 0\n",
            "_________________________________________________________________\n"
          ]
        }
      ]
    },
    {
      "cell_type": "code",
      "source": [
        "from tensorflow.keras.losses import CategoricalCrossentropy\n",
        "model1.compile(\n",
        "  optimizer='adam',\n",
        "  loss=CategoricalCrossentropy(),\n",
        "  metrics=['accuracy'])"
      ],
      "metadata": {
        "id": "qUMqqfo4r-o_"
      },
      "id": "qUMqqfo4r-o_",
      "execution_count": null,
      "outputs": []
    },
    {
      "cell_type": "code",
      "source": [
        "history = model1.fit(\n",
        "  train_datagen,\n",
        "  validation_data=test_datagen,\n",
        "  epochs=20)"
      ],
      "metadata": {
        "colab": {
          "base_uri": "https://localhost:8080/"
        },
        "id": "9yXtO6X_r-82",
        "outputId": "4eec14ec-bc3b-4165-90f2-5a6a0c2ebb84"
      },
      "id": "9yXtO6X_r-82",
      "execution_count": null,
      "outputs": [
        {
          "output_type": "stream",
          "name": "stdout",
          "text": [
            "Epoch 1/20\n",
            "59/59 [==============================] - 710s 12s/step - loss: 0.8054 - accuracy: 0.6924 - val_loss: 0.5306 - val_accuracy: 0.8153\n",
            "Epoch 2/20\n",
            "59/59 [==============================] - 60s 1s/step - loss: 0.6320 - accuracy: 0.7733 - val_loss: 0.5745 - val_accuracy: 0.7866\n",
            "Epoch 3/20\n",
            "59/59 [==============================] - 59s 999ms/step - loss: 0.5747 - accuracy: 0.7820 - val_loss: 0.5052 - val_accuracy: 0.7866\n",
            "Epoch 4/20\n",
            "59/59 [==============================] - 61s 1s/step - loss: 0.5452 - accuracy: 0.7839 - val_loss: 0.4155 - val_accuracy: 0.8225\n",
            "Epoch 5/20\n",
            "59/59 [==============================] - 60s 1s/step - loss: 0.4840 - accuracy: 0.8035 - val_loss: 0.4237 - val_accuracy: 0.8201\n",
            "Epoch 6/20\n",
            "59/59 [==============================] - 60s 1s/step - loss: 0.4869 - accuracy: 0.8001 - val_loss: 0.3991 - val_accuracy: 0.8369\n",
            "Epoch 7/20\n",
            "59/59 [==============================] - 61s 1s/step - loss: 0.4628 - accuracy: 0.8096 - val_loss: 0.3748 - val_accuracy: 0.8369\n",
            "Epoch 8/20\n",
            "59/59 [==============================] - 59s 1s/step - loss: 0.4782 - accuracy: 0.8072 - val_loss: 0.4057 - val_accuracy: 0.8249\n",
            "Epoch 9/20\n",
            "59/59 [==============================] - 60s 1s/step - loss: 0.4429 - accuracy: 0.8136 - val_loss: 0.3846 - val_accuracy: 0.8369\n",
            "Epoch 10/20\n",
            "59/59 [==============================] - 60s 1s/step - loss: 0.4315 - accuracy: 0.8144 - val_loss: 0.3686 - val_accuracy: 0.8321\n",
            "Epoch 11/20\n",
            "59/59 [==============================] - 60s 1s/step - loss: 0.4286 - accuracy: 0.8146 - val_loss: 0.3468 - val_accuracy: 0.8633\n",
            "Epoch 12/20\n",
            "59/59 [==============================] - 62s 1s/step - loss: 0.4271 - accuracy: 0.8197 - val_loss: 0.3526 - val_accuracy: 0.8513\n",
            "Epoch 13/20\n",
            "59/59 [==============================] - 60s 1s/step - loss: 0.4301 - accuracy: 0.8173 - val_loss: 0.3489 - val_accuracy: 0.8561\n",
            "Epoch 14/20\n",
            "59/59 [==============================] - 61s 1s/step - loss: 0.4308 - accuracy: 0.8173 - val_loss: 0.3795 - val_accuracy: 0.8393\n",
            "Epoch 15/20\n",
            "59/59 [==============================] - 61s 1s/step - loss: 0.4126 - accuracy: 0.8255 - val_loss: 0.3602 - val_accuracy: 0.8441\n",
            "Epoch 16/20\n",
            "59/59 [==============================] - 59s 1s/step - loss: 0.4130 - accuracy: 0.8231 - val_loss: 0.3428 - val_accuracy: 0.8489\n",
            "Epoch 17/20\n",
            "59/59 [==============================] - 60s 1s/step - loss: 0.4198 - accuracy: 0.8229 - val_loss: 0.3294 - val_accuracy: 0.8609\n",
            "Epoch 18/20\n",
            "59/59 [==============================] - 61s 1s/step - loss: 0.4131 - accuracy: 0.8239 - val_loss: 0.3310 - val_accuracy: 0.8657\n",
            "Epoch 19/20\n",
            "59/59 [==============================] - 60s 1s/step - loss: 0.4009 - accuracy: 0.8305 - val_loss: 0.3316 - val_accuracy: 0.8417\n",
            "Epoch 20/20\n",
            "59/59 [==============================] - 60s 1s/step - loss: 0.4059 - accuracy: 0.8255 - val_loss: 0.3590 - val_accuracy: 0.8489\n"
          ]
        }
      ]
    },
    {
      "cell_type": "code",
      "source": [
        "import matplotlib.pyplot as plt\n",
        "\n",
        "plt.plot(history.history['loss'])\n",
        "plt.plot(history.history['val_loss'])"
      ],
      "metadata": {
        "colab": {
          "base_uri": "https://localhost:8080/",
          "height": 447
        },
        "id": "ycFFV9ehr_dg",
        "outputId": "28123a58-91f4-4442-a427-fc93fa73974a"
      },
      "id": "ycFFV9ehr_dg",
      "execution_count": null,
      "outputs": [
        {
          "output_type": "execute_result",
          "data": {
            "text/plain": [
              "[<matplotlib.lines.Line2D at 0x7f63bb7448e0>]"
            ]
          },
          "metadata": {},
          "execution_count": 10
        },
        {
          "output_type": "display_data",
          "data": {
            "text/plain": [
              "<Figure size 640x480 with 1 Axes>"
            ],
            "image/png": "[encoded data removed]"
          },
          "metadata": {}
        }
      ]
    },
    {
      "cell_type": "code",
      "source": [
        "import numpy as np\n",
        "from sklearn.metrics import confusion_matrix, precision_score, recall_score, f1_score\n",
        "# Get the predictions and ground truth labels for train and test data\n",
        "train_predictions = np.argmax(model1.predict(train_datagen), axis=-1)\n",
        "train_labels = train_datagen.classes\n",
        "\n",
        "test_predictions = np.argmax(model1.predict(test_datagen), axis=-1)\n",
        "test_labels = test_datagen.classes\n",
        "\n",
        "# Calculate the confusion matrix for train and test data\n",
        "train_cm = confusion_matrix(train_labels, train_predictions)\n",
        "test_cm = confusion_matrix(test_labels, test_predictions)\n",
        "\n",
        "# Calculate precision, recall, and F1 score for train data\n",
        "train_precision = precision_score(train_labels, train_predictions, average='weighted')\n",
        "train_recall = recall_score(train_labels, train_predictions, average='weighted')\n",
        "train_f1 = f1_score(train_labels, train_predictions, average='weighted')\n",
        "\n",
        "# Calculate precision, recall, and F1 score for test data\n",
        "test_precision = precision_score(test_labels, test_predictions, average='weighted')\n",
        "test_recall = recall_score(test_labels, test_predictions, average='weighted')\n",
        "test_f1 = f1_score(test_labels, test_predictions, average='weighted')\n",
        "\n",
        "# Print the results for train data\n",
        "print(\"Train Confusion Matrix:\")\n",
        "print(train_cm)\n",
        "print(\"Train Precision:\", train_precision)\n",
        "print(\"Train Recall:\", train_recall)\n",
        "print(\"Train F1 Score:\", train_f1)\n",
        "\n",
        "# Print the results for test data\n",
        "print(\"Test Confusion Matrix:\")\n",
        "print(test_cm)\n",
        "print(\"Test Precision:\", test_precision)\n",
        "print(\"Test Recall:\", test_recall)\n",
        "print(\"Test F1 Score:\", test_f1)"
      ],
      "metadata": {
        "colab": {
          "base_uri": "https://localhost:8080/"
        },
        "id": "pI6YJeu3tUg5",
        "outputId": "047caa32-700a-4f68-9e75-33ab11493bbf"
      },
      "id": "pI6YJeu3tUg5",
      "execution_count": null,
      "outputs": [
        {
          "output_type": "stream",
          "name": "stdout",
          "text": [
            "59/59 [==============================] - 59s 986ms/step\n",
            "7/7 [==============================] - 2s 339ms/step\n",
            "Train Confusion Matrix:\n",
            "[[426 295   8 303]\n",
            " [451 363   7 355]\n",
            " [215 149   3 150]\n",
            " [407 342   6 291]]\n",
            "Train Precision: 0.2668801064672288\n",
            "Train Recall: 0.2871917263325378\n",
            "Train F1 Score: 0.2662840007383701\n",
            "Test Confusion Matrix:\n",
            "[[41 36  1 36]\n",
            " [52 40  2 36]\n",
            " [15 25  0 17]\n",
            " [46 36  2 32]]\n",
            "Test Precision: 0.23737299683603022\n",
            "Test Recall: 0.2709832134292566\n",
            "Test F1 Score: 0.2521745860698238\n"
          ]
        }
      ]
    }
  ],
  "metadata": {
    "kernelspec": {
      "display_name": "Python 3",
      "name": "python3"
    },
    "language_info": {
      "codemirror_mode": {
        "name": "ipython",
        "version": 3
      },
      "file_extension": ".py",
      "mimetype": "text/x-python",
      "name": "python",
      "nbconvert_exporter": "python",
      "pygments_lexer": "ipython3",
      "version": "3.9.12"
    },
    "colab": {
      "provenance": [],
      "gpuType": "T4"
    },
    "accelerator": "GPU"
  },
  "nbformat": 4,
  "nbformat_minor": 5
}